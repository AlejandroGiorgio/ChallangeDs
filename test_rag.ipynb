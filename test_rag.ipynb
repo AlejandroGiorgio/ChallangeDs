{
 "cells": [
  {
   "cell_type": "code",
   "execution_count": 1,
   "metadata": {},
   "outputs": [],
   "source": [
    "from src.rag import RAGEmbeddingEngine"
   ]
  },
  {
   "cell_type": "code",
   "execution_count": 2,
   "metadata": {},
   "outputs": [
    {
     "name": "stderr",
     "output_type": "stream",
     "text": [
      "2025-01-15 02:48:10,218 - src.rag - INFO - Inicializando RAGEmbeddingEngine con modelo sentence-transformers/all-mpnet-base-v2\n",
      "2025-01-15 02:48:10,221 - sentence_transformers.SentenceTransformer - INFO - Use pytorch device_name: cpu\n",
      "2025-01-15 02:48:10,222 - sentence_transformers.SentenceTransformer - INFO - Load pretrained SentenceTransformer: sentence-transformers/all-mpnet-base-v2\n",
      "2025-01-15 02:48:12,629 - src.rag - INFO - Cargando índice FAISS desde embeddings/got_index.faiss\n"
     ]
    }
   ],
   "source": [
    "rag = RAGEmbeddingEngine(index_path=\"embeddings/got_index.faiss\", metadata_path=\"embeddings/got_metadata.pkl\")"
   ]
  },
  {
   "cell_type": "code",
   "execution_count": 5,
   "metadata": {},
   "outputs": [
    {
     "name": "stderr",
     "output_type": "stream",
     "text": [
      "Batches: 100%|██████████| 1/1 [00:00<00:00, 24.99it/s]\n",
      "2025-01-15 02:48:44,829 - src.rag - INFO - Búsqueda completada para 'Jon Snow'. 10 resultados encontrados\n"
     ]
    }
   ],
   "source": [
    "result = rag.search(\"Jon Snow\", k=10)"
   ]
  },
  {
   "cell_type": "code",
   "execution_count": 9,
   "metadata": {},
   "outputs": [
    {
     "name": "stdout",
     "output_type": "stream",
     "text": [
      "ChunkMetadata(page_number=127, chunk_number=1, text='castillo negro. alli los muros eran frios, y las personas mas frias aun. nadie le habia contado que la guardia negra iba a ser asi ; solo tyrion lannister. el enano le habia dicho la verdad en el camino hacia el norte, pero entonces ya era tarde. jon se preguntaba si su padre sabria como era el muro. seguro que si, penso. eso todavia le dolia mas. hasta su tio lo habia abandonado en aquel lugar gelido en el fin del mundo. alli arriba, el afable benjen stark se habia transformado en otra persona. era el capitan de los exploradores, y pasaba dia y noche con el lord comandante mormont, el maestre aemon y los demas oficiales de alto rango, mientras jon quedaba a los cuidados nada tiernos de ser alliser thorne. tres dias despues de llegar, jon habia oido comentar que benjen stark iba a guiar una partida de seis hombres en una expedicion al bosque encantado. aquella misma noche fue a buscar a su tio a la gran sala comun y le suplico que lo llevara con el. — esto no es invernalia — le respondio el hombre, que cortaba la carne con la daga y un tenedor —. en el muro, cada hombre tiene lo que se gana. aun no eres explorador, jon. eres un simple novato que todavia huele a verano. — se acerca el decimoquinto dia de mi nombre — dijo jon, cometiendo el error de discutir con el —. ya soy casi un hombre. — eres un nino — replico benjen stark con el ceno fruncido —, y lo seras hasta que ser alliser diga que estas preparado para ser un hombre de la guardia de la noche.', start_position=1315, end_position=2790, word_count=284)\n",
      "--------------------------------------------------\n",
      "ChunkMetadata(page_number=386, chunk_number=2, text='##eo la mano de jon. — ahora tu eres mi hermano, asi que tambien es mi padre — dijo el muchacho gordo —. si quieres ir a los arcianos, a rezarles a los antiguos dioses, te acompanare. los arcianos estaban al otro lado del muro, pero jon sabia que sam lo decia en serio. « son mis hermanos — penso —. tanto como robb, como bran, como rickon. » y en aquel momento oyo la carcajada, mordiente y cruel como un latigo, y la voz de ser alliser thorne. — no solo un bastardo, sino el bastardo de un traidor — decia a los hombres que lo rodeaban. 386', start_position=2556, end_position=3098, word_count=109)\n",
      "--------------------------------------------------\n",
      "ChunkMetadata(page_number=552, chunk_number=1, text='. eddard stark, senor de invernalia, guardian del norte, — su esposa lady catelyn, de la casa tully, — sus hijos : — robb, heredero de invernalia, de catorce anos, — sansa, la mayor de las hijas, de once anos, — arya, la menor de las hijas, una nina de nueve anos, — brandon, llamado bran, de siete anos, — rickon, un nino de tres anos, — su hijo bastardo, jon nieve, un nino de catorce anos, — su pupilo, theon greyjoy, heredero de las islas del hierro, — sus hermanos : — [ brandon ], su hermano mayor, asesinado por orden de aerys ii targaryen, — [ lyanna ], su hermana menor, fallecida en las montanas de dorne, — benjen, su hermano menor, de la guardia de la noche, — sus sirvientes : — maestre luwin, consejero, sanador y tutor, — vayon poole, mayordomo de invernalia, — jeyne, su hija, la mejor amiga de sansa, — jory cassel, capitan de la guardia, — hallis mollen, desmond, jacks, porther, quent, alyn, tomard, varly, heward, cayn, wyl, guardias, — ser rodrik cassel, maestro de armas, tio de jory, — beth, su joven hija, — septa mordane, tutora de las hijas de lord eddard, — septon chayle, guardian del sept y de la biblioteca del castillo, — mullen, jefe de caballos, — su hijo, harwin, un guardia, — joseth, un mozo de cuadra y entrenador de caballos, — farlen, encargado de las perreras, 552', start_position=408, end_position=1712, word_count=242)\n",
      "--------------------------------------------------\n",
      "ChunkMetadata(page_number=40, chunk_number=0, text='jon habia ocasiones, aunque no muchas, en las que jon nieve se alegraba de ser el hijo bastardo. aquella noche, mientras se llenaba una vez mas la copa de vino de la jarra de un mozo que pasaba junto a el, penso que esa era una de ellas. volvio a ocupar su lugar en el banco, entre los escuderos jovenes, y bebio. el sabor dulce y afrutado del vino veraniego le impregno la boca y dibujo una sonrisa en sus labios. la sala principal de invernalia estaba llena de humo y el aire cargado del olor a carne asada y a pan recien hecho. los estandartes cubrian los muros de piedra gris. blanco, oro y escarlata : el huargo de los stark, el venado coronado de los baratheon y el leon de los lannister. un trovador tocaba el arpa alta al tiempo que recitaba una balada, pero en aquel rincon de la sala apenas se lo escuchaba por encima del crepitar de las llamas, el estrepito de los platos y las copas, y el murmullo de cientos de conversaciones ebrias. corria la cuarta hora del festin de bienvenida dispuesto en honor al rey. los hermanos de jon ocupaban sitios asignados con los principes, junto al estrado donde lord y lady stark agasajaban a los reyes. seguramente su padre permitiria a los ninos beber una copa de vino dada la importancia de la ocasion, pero solo una. en cambio alli abajo, en los bancos, nadie impedia a jon beber tanto como quisiera para saciar su sed.', start_position=0, end_position=1370, word_count=255)\n",
      "--------------------------------------------------\n",
      "ChunkMetadata(page_number=129, chunk_number=2, text='ni benjen stark, ni nadie. detesto este lugar... es frio. — si. frio, duro y cruel. asi es el muro, y asi son los hombres que lo patrullan. nada que ver con los cuentos que te contaba tu ninera. nosotros nos meamos en los cuentos, y tambien en la ninera. las cosas son como son, y estaras aqui el resto de tu vida, igual que nosotros. — vida — repitio jon con amargura. el armero podia hablar de la vida, porque habia vivido. solo vistio el negro despues de perder un brazo en el asedio de bastion de tormentas. antes de eso habia sido herrero de stannis baratheon, el hermano del rey. 129', start_position=2528, end_position=3117, word_count=113)\n",
      "--------------------------------------------------\n",
      "ChunkMetadata(page_number=394, chunk_number=0, text='padre, y de alguna manera se las arreglo para que se plegaran a su voluntad. y cuando lord umber, al que sus hombres llamaban el gran jon, que era tan alto como hodor y el doble de ancho, lo amenazo con llevarse a sus huestes si durante la marcha lo situaban detras de los hornwood y los cerwyn, robb le dijo que podia hacerlo cuando gustara. — y cuando acabemos con los lannister — siguio al tiempo que rascaba a viento gris detras de la oreja —, volveremos al norte, os sacaremos a rastras de vuestro castillo y os colgaremos por romper vuestro juramento. el gran jon maldijo a gritos, tiro una jarra de cerveza al fuego y aullo que robb estaba tan verde que seguramente meaba hierba. hallis mollen fue a contenerlo, pero el lo derribo por tierra, salto sobre una mesa, y desenvaino el espadon mas grande y amenazador que bran habia visto en su vida. en los bancos sus hijos, sus hermanos y sus espadas juramentadas se pusieron en pie, con las manos sobre las empunaduras de las espadas. robb se limito a decir una palabra en voz baja, y en un abrir y cerrar de ojos se oyo un grunido y lord umber se encontro tumbado de espaldas, con la espada girando en el suelo a un metro de el y la mano chorreando sangre, porque viento gris le habia arrancado dos dedos de un mordisco. — mi senor padre me enseno que desenfundar el arma contra el senor de uno significaba la muerte — dijo robb —. pero creo que solo queriais ayudarme a cortar la carne.', start_position=0, end_position=1443, word_count=272)\n",
      "--------------------------------------------------\n",
      "ChunkMetadata(page_number=385, chunk_number=1, text='dijo mormont —, no me corresponde a mi decidirlo. y a ti tampoco. — pero es que es mentira — insistio jon. ¿ como podian pensar que su padre fuera un traidor, se habian vuelto todos locos? lord eddard stark jamas haria nada deshonroso... ¿ verdad? « engendro un bastardo — dijo una vocecita en su interior —. eso no es honorable. ¿ y que pasa con tu madre? ni siquiera menciona su nombre. » — ¿ que sera de el, mi senor? ¿ lo mataran? — eso tampoco lo se, muchacho. voy a enviar una carta. en mi juventud conoci a algunos de los consejeros del rey : el viejo pycelle, lord stannis, ser barristan... no importa que haya hecho tu padre, es un gran senor. deberian permitirle vestir el negro y unirse a nosotros. los dioses saben que necesitamos hombres del talento de lord eddard. jon sabia que, en el pasado, a otros hombres acusados de traicion se les habia permitido redimir su honor en el muro. ¿ por que no a lord eddard? su padre... alli... era una idea extrana, y le resultaba incomoda. seria una injusticia monstruosa que lo despojaran de invernalia y lo obligaran a vestir el negro, pero si asi salvaba la vida... ¿ lo permitiria joffrey? recordo los dias que el principe paso en invernalia, su manera de burlarse de robb y de ser rodrik en el patio. en jon ni siquiera se habia fijado, los bastardos no tenian derecho ni a su desprecio. — ¿ os escuchara el rey, mi senor? — un rey nino... — el viejo oso se encogio de hombros —.', start_position=1276, end_position=2712, word_count=272)\n",
      "--------------------------------------------------\n",
      "ChunkMetadata(page_number=528, chunk_number=2, text='sobre los ninos del bosque y florian el bufon. pero no habia huido del muro para eso. se habia marchado porque era hijo de su padre y hermano de robb. una espada regalada, aunque fuera tan bella como garra, no hacia de el un mormont. tampoco era aemon targaryen. el anciano habia tenido que decidir en tres ocasiones, y en tres ocasiones habia optado por el honor, pero habia sido su decision. ni siquiera en aquellos momentos sabia jon si el maestre se habia quedado porque era debil y cobarde, o porque era fuerte y honorable. pero comprendia lo que le habia contado sobre el dolor de elegir. lo comprendia demasiado bien. tyrion lannister aseguraba que la mayoria de los hombres preferia negar una verdad dolorosa antes que enfrentarse a ella, pero jon estaba harto de negar cosas. era quien era, jon nieve, bastardo y fugitivo, sin madre, sin amigos, perseguido. durante el resto de su vida, durase lo que durase, seria un forajido, un hombre silencioso que se ampararia en las sombras sin atreverse a pronunciar su verdadero nombre. en los siete reinos, fuera a donde fuera, tendria que vivir en la mentira, o cada hombre seria su enemigo. pero eso no importaba, nada importaba, siempre que viviera lo suficiente para ocupar el lugar que le correspondia al lado de su hermano, y ayudara a vengar a su 528', start_position=2689, end_position=3998, word_count=230)\n",
      "--------------------------------------------------\n",
      "ChunkMetadata(page_number=51, chunk_number=2, text='la lannister. ¿ como puedes ser tan cruel, catelyn? no es mas que un nino. no... — estaba dominado por la ira. habria dicho mas cosas, y peores, pero el maestre luwin lo interrumpio. — hay otra solucion — dijo con voz tranquila —. vuestro hermano benjen vino a verme hace unos dias, queria hablarme de jon. por lo visto el muchacho aspira a vestir el negro. — ¿ quiere unirse a la guardia de la noche? — ned lo miro, conmocionado. catelyn no dijo nada. que ned meditara sobre la idea ; en aquel momento una intervencion suya solo lo pondria en contra. pero de buena gana habria besado al maestre. era la solucion perfecta. benjen stark era un hermano juramentado. jon seria como un hijo para el, el hijo que nunca tendria. y el chico tambien prestaria el 51', start_position=2680, end_position=3437, word_count=141)\n",
      "--------------------------------------------------\n",
      "ChunkMetadata(page_number=550, chunk_number=1, text='. el rey robert baratheon, el primero de su nombre, — su esposa, la reina cersei, de la casa lannister, — sus hijos : — el principe joffrey, heredero del trono de hierro, doce anos, — la princesa myrcella, una nina de ocho anos, — el principe tommen, un nino de siete anos, — sus hermanos : — stannis baratheon, senor de rocadragon, — su esposa, lady selyse, de la casa florent, — su hija, shireen, una nina de nueve anos, — renly baratheon, senor de bastion de tormentas, — su consejo privado : — el gran maestre pycelle, — lord petyr baelish, tambien llamado menique, jefe de la moneda, — lord stannis baratheon, jefe de las naves, — lord renly baratheon, jefe de las leyes, — ser barristan selmy, lord comandante de la guardia real, — varys, un eunuco, tambien llamado la arana, jefe de los rumores, — su corte y sus criados : 550', start_position=616, end_position=1449, word_count=156)\n",
      "--------------------------------------------------\n"
     ]
    }
   ],
   "source": [
    "for chunk in result:\n",
    "    print(chunk[1])\n",
    "    print(\"-\"*50)"
   ]
  }
 ],
 "metadata": {
  "kernelspec": {
   "display_name": ".venv",
   "language": "python",
   "name": "python3"
  },
  "language_info": {
   "codemirror_mode": {
    "name": "ipython",
    "version": 3
   },
   "file_extension": ".py",
   "mimetype": "text/x-python",
   "name": "python",
   "nbconvert_exporter": "python",
   "pygments_lexer": "ipython3",
   "version": "3.10.0"
  }
 },
 "nbformat": 4,
 "nbformat_minor": 2
}
